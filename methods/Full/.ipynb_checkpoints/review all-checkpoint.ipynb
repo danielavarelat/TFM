{
 "cells": [
  {
   "cell_type": "code",
   "execution_count": 1,
   "id": "cfa921ee",
   "metadata": {},
   "outputs": [],
   "source": [
    "import numpy as np\n",
    "import matplotlib.pyplot as plt\n",
    "import nibabel as nib\n",
    "import pandas as pd\n",
    "from IPython.display import clear_output\n",
    "from skimage.segmentation import find_boundaries\n",
    "import os\n",
    "import sys\n",
    "import importlib"
   ]
  },
  {
   "cell_type": "code",
   "execution_count": 40,
   "id": "0f633a74",
   "metadata": {},
   "outputs": [],
   "source": [
    "sys.path.insert(1, \"/Users/dvarelat/Documents/MASTER/TFM/methods\")\n",
    "import cardiac_region\n",
    "importlib.reload(cardiac_region)\n",
    "import cardiac_region as c"
   ]
  },
  {
   "cell_type": "code",
   "execution_count": 6,
   "id": "a67489e7",
   "metadata": {
    "scrolled": true
   },
   "outputs": [
    {
     "data": {
      "text/plain": [
       "['20190520_E4_MASK_EQ_ZXY.nii.gz',\n",
       " '20190401_E1_MASK_EQ_ZXY.nii.gz',\n",
       " '20190504_E1_MASK_EQ_ZXY.nii.gz',\n",
       " '20190520_E1_MASK_EQ_ZXY.nii.gz',\n",
       " '20190520_E2_MASK_EQ_ZXY.nii.gz',\n",
       " '20190806_E3_MASK_EQ_ZXY.nii.gz',\n",
       " '20190517_E1_MASK_EQ_ZXY.nii.gz',\n",
       " '20190516_E3_MASK_EQ_ZXY.nii.gz',\n",
       " '20190404_E2_MASK_EQ_ZXY.nii.gz',\n",
       " '20190401_E3_MASK_EQ_ZXY.nii.gz']"
      ]
     },
     "execution_count": 6,
     "metadata": {},
     "output_type": "execute_result"
    }
   ],
   "source": [
    "folder = \"/Users/dvarelat/Documents/MASTER/TFM/DATA/RESULTS/membranes/GASP_PNAS\"\n",
    "folder_n = \"/Users/dvarelat/Documents/MASTER/TFM/DATA/RESULTS/nuclei\"\n",
    "cardiac05 = \"/Users/dvarelat/Documents/MASTER/TFM/DATA/CardiacRegion\"\n",
    "decon_05 = \"/Users/dvarelat/Documents/MASTER/TFM/DATA/DECON_05/MGFP\"\n",
    "os.listdir(folder_n)"
   ]
  },
  {
   "cell_type": "code",
   "execution_count": 11,
   "id": "377e1e56",
   "metadata": {},
   "outputs": [],
   "source": [
    "especimens = [\n",
    "    \"20190504_E1\",\n",
    "    \"20190404_E2\",\n",
    "    \"20190520_E4\",\n",
    "    \"20190516_E3\",\n",
    "    \"20190806_E3\",\n",
    "    \"20190520_E2\",\n",
    "    \"20190401_E3\",\n",
    "    \"20190517_E1\",\n",
    "    \"20190520_E1\",\n",
    "    '20190401_E1',\n",
    "]\n",
    "files_final = [os.path.join(folder, i+\"_mGFP_CardiacRegion_0.5_ZXY_predictions_GASP.nii.gz\") for i in especimens]\n",
    "files_cardiac = [os.path.join(cardiac05, i+\"/\" + i+\"_mGFP_CardiacRegion_0.5.nii.gz\") for i in especimens]\n",
    "files_decon = [os.path.join(decon_05, i+\"_mGFP_decon_0.5.nii.gz\") for i in especimens]\n",
    "files_nuclei = [os.path.join(folder_n, i+\"_MASK_EQ_ZXY.nii.gz\") for i in especimens]\n"
   ]
  },
  {
   "cell_type": "code",
   "execution_count": 19,
   "id": "8c6e0b46",
   "metadata": {},
   "outputs": [
    {
     "data": {
      "text/plain": [
       "(218, 544, 845)"
      ]
     },
     "execution_count": 19,
     "metadata": {},
     "output_type": "execute_result"
    }
   ],
   "source": [
    "i = 0\n",
    "pred_mem = nib.load(files_final[i]).get_fdata()\n",
    "pred_mem.shape"
   ]
  },
  {
   "cell_type": "code",
   "execution_count": 64,
   "id": "4132ec29",
   "metadata": {},
   "outputs": [
    {
     "data": {
      "text/plain": [
       "(544, 845, 218)"
      ]
     },
     "execution_count": 64,
     "metadata": {},
     "output_type": "execute_result"
    }
   ],
   "source": [
    "np.swapaxes(np.swapaxes(pred_mem, 0, 2), 1, 0).shape"
   ]
  },
  {
   "cell_type": "code",
   "execution_count": 12,
   "id": "eaaa95ad",
   "metadata": {},
   "outputs": [
    {
     "name": "stdout",
     "output_type": "stream",
     "text": [
      "True\n",
      "True\n",
      "True\n",
      "True\n",
      "True\n",
      "True\n",
      "True\n",
      "True\n",
      "True\n",
      "True\n"
     ]
    }
   ],
   "source": [
    "for i in files_nuclei:\n",
    "    print(os.path.isfile(i))"
   ]
  },
  {
   "cell_type": "code",
   "execution_count": 14,
   "id": "d8b8f3a4",
   "metadata": {},
   "outputs": [
    {
     "data": {
      "text/plain": [
       "'/'"
      ]
     },
     "execution_count": 14,
     "metadata": {},
     "output_type": "execute_result"
    }
   ],
   "source": []
  },
  {
   "cell_type": "code",
   "execution_count": 17,
   "id": "5944b64a",
   "metadata": {},
   "outputs": [
    {
     "name": "stdout",
     "output_type": "stream",
     "text": [
      "{'x_size': 1024, 'y_size': 1024, 'z_size': 413, 'x_res': 0.757206, 'y_res': 0.757206, 'z_res': 0.995703}\n",
      "{'x_size': 544, 'y_size': 845, 'z_size': 218, 'x_res': 1.0, 'y_res': 1.0, 'z_res': 1.0}\n",
      "{'x_size': 218, 'y_size': 544, 'z_size': 845, 'x_res': 1.0, 'y_res': 1.0, 'z_res': 1.0}\n",
      "{'x_size': 218, 'y_size': 544, 'z_size': 845, 'x_res': 1.0, 'y_res': 1.0, 'z_res': 1.0}\n"
     ]
    }
   ],
   "source": [
    "print(c.load3D_metadata(files_decon[0]))\n",
    "print(c.load3D_metadata(files_cardiac[0]))\n",
    "print(c.load3D_metadata(files_final[0]))\n",
    "print(c.load3D_metadata(files_nuclei[0]))"
   ]
  },
  {
   "cell_type": "code",
   "execution_count": 41,
   "id": "7a9f9cf3",
   "metadata": {},
   "outputs": [],
   "source": [
    "# Guarda arrays 3D en formato Nifti\n",
    "def saveNifti(array_3D, array_dim_info, save_path, vox_units=\"um\"):\n",
    "    units_dict = {\"um\": 3, \"mm\": 2, \"m\": 1, \"pixel\": 0}\n",
    "    tipo = array_3D.dtype.name\n",
    "    if \"uint\" in tipo:\n",
    "        bit_depth = 2 ** int(array_3D.dtype.name.split(\"uint\")[1]) - 1\n",
    "    elif \"uint\" in tipo:\n",
    "        bit_depth = 255\n",
    "    img = nib.Nifti1Image(array_3D, np.eye(4))\n",
    "    # Se especifican unidades, dimensiones y tamano de pixel\n",
    "    Dimensions = np.asarray(\n",
    "        [\n",
    "            1.0,\n",
    "            array_dim_info[\"x_res\"],\n",
    "            array_dim_info[\"y_res\"],\n",
    "            array_dim_info[\"z_res\"],\n",
    "            1.0,\n",
    "            0.0,\n",
    "            0.0,\n",
    "            0.0,\n",
    "        ],\n",
    "        dtype=\"float32\",\n",
    "    )\n",
    "    img.header[\"pixdim\"] = Dimensions\n",
    "    img.header[\"xyzt_units\"] = units_dict[vox_units]\n",
    "\n",
    "    if \"uint\" in tipo:\n",
    "        img.header[\"cal_max\"] = bit_depth\n",
    "    # Se guarda\n",
    "    nib.save(img, save_path)"
   ]
  },
  {
   "cell_type": "code",
   "execution_count": null,
   "id": "45df76ea",
   "metadata": {},
   "outputs": [],
   "source": []
  },
  {
   "cell_type": "markdown",
   "id": "0d2f5748",
   "metadata": {},
   "source": [
    "## Rotate and add HEADER "
   ]
  },
  {
   "cell_type": "code",
   "execution_count": 19,
   "id": "bfcd0026",
   "metadata": {},
   "outputs": [
    {
     "name": "stdout",
     "output_type": "stream",
     "text": [
      "20190504_E1\n",
      "Prediction (218, 544, 845)\n",
      "---------\n",
      "20190404_E2\n",
      "Prediction (432, 1020, 764)\n",
      "---------\n",
      "20190520_E4\n",
      "Prediction (218, 812, 954)\n",
      "---------\n",
      "20190516_E3\n",
      "Prediction (437, 870, 651)\n",
      "---------\n",
      "20190806_E3\n",
      "Prediction (477, 861, 970)\n",
      "---------\n",
      "20190520_E2\n",
      "Prediction (373, 763, 957)\n",
      "---------\n",
      "20190401_E3\n",
      "Prediction (394, 893, 751)\n",
      "---------\n",
      "20190517_E1\n",
      "Prediction (563, 908, 775)\n",
      "---------\n",
      "20190520_E1\n",
      "Prediction (434, 722, 768)\n",
      "---------\n",
      "20190401_E1\n",
      "Prediction (507, 742, 871)\n",
      "---------\n"
     ]
    }
   ],
   "source": [
    "for i, e in enumerate(especimens):\n",
    "    print(e)\n",
    "    #pred_mem = nib.load(files_final[i]).get_fdata()\n",
    "    pred_nu =  nib.load(files_nuclei[i]).get_fdata()\n",
    "    print(f\"Prediction {pred_nu.shape}\")\n",
    "    #saveNifti(np.swapaxes(np.swapaxes(pred_mem, 0, 2), 1, 0), \n",
    "     #         c.load3D_metadata(files_decon[i]), \n",
    "      #        files_final[i].replace(\"ZXY\", \"XYZ\"))\n",
    "    saveNifti(np.swapaxes(np.swapaxes(pred_nu, 0, 2), 1, 0), \n",
    "              c.load3D_metadata(files_decon[i]), \n",
    "              files_nuclei[i].replace(\"ZXY\", \"XYZ\"))\n",
    "    print(\"---------\")"
   ]
  },
  {
   "cell_type": "code",
   "execution_count": 66,
   "id": "fc3669d1",
   "metadata": {},
   "outputs": [],
   "source": [
    "#saveNifti(np.swapaxes(np.swapaxes(pred_mem, 0, 2), 1, 0), c.load3D_metadata(files_decon[0]), \"test.nii.gz\")"
   ]
  },
  {
   "cell_type": "code",
   "execution_count": 86,
   "id": "609a3b62",
   "metadata": {},
   "outputs": [
    {
     "data": {
      "text/plain": [
       "(1020, 764, 432)"
      ]
     },
     "execution_count": 86,
     "metadata": {},
     "output_type": "execute_result"
    }
   ],
   "source": [
    "np.swapaxes(np.swapaxes(pred_mem, 0, 2), 1, 0).shape"
   ]
  },
  {
   "cell_type": "code",
   "execution_count": 89,
   "id": "8803c296",
   "metadata": {},
   "outputs": [
    {
     "data": {
      "text/plain": [
       "(432, 1020, 764)"
      ]
     },
     "execution_count": 89,
     "metadata": {},
     "output_type": "execute_result"
    }
   ],
   "source": [
    "pred_mem.shape"
   ]
  },
  {
   "cell_type": "code",
   "execution_count": 88,
   "id": "38bf36ff",
   "metadata": {},
   "outputs": [
    {
     "data": {
      "text/plain": [
       "{'x_size': 1020,\n",
       " 'y_size': 764,\n",
       " 'z_size': 432,\n",
       " 'x_res': 1.0,\n",
       " 'y_res': 1.0,\n",
       " 'z_res': 1.0}"
      ]
     },
     "execution_count": 88,
     "metadata": {},
     "output_type": "execute_result"
    }
   ],
   "source": [
    "c.load3D_metadata(files_cardiac[1])"
   ]
  },
  {
   "cell_type": "code",
   "execution_count": 69,
   "id": "bcbc0d57",
   "metadata": {},
   "outputs": [
    {
     "data": {
      "text/plain": [
       "{'x_size': 544,\n",
       " 'y_size': 845,\n",
       " 'z_size': 218,\n",
       " 'x_res': 0.757206,\n",
       " 'y_res': 0.757206,\n",
       " 'z_res': 0.995703}"
      ]
     },
     "execution_count": 69,
     "metadata": {},
     "output_type": "execute_result"
    }
   ],
   "source": [
    "c.load3D_metadata(\"test.nii.gz\")"
   ]
  },
  {
   "cell_type": "code",
   "execution_count": 92,
   "id": "75b7867d",
   "metadata": {},
   "outputs": [
    {
     "name": "stdout",
     "output_type": "stream",
     "text": [
      "{'x_size': 544, 'y_size': 845, 'z_size': 218, 'x_res': 0.757206, 'y_res': 0.757206, 'z_res': 0.995703}\n",
      "{'x_size': 1020, 'y_size': 764, 'z_size': 432, 'x_res': 0.757206, 'y_res': 0.757206, 'z_res': 0.99691}\n",
      "{'x_size': 812, 'y_size': 954, 'z_size': 218, 'x_res': 0.887178, 'y_res': 0.887178, 'z_res': 2.00143}\n",
      "{'x_size': 870, 'y_size': 651, 'z_size': 437, 'x_res': 0.813325, 'y_res': 0.813325, 'z_res': 0.79905}\n",
      "{'x_size': 861, 'y_size': 970, 'z_size': 477, 'x_res': 0.887178, 'y_res': 0.887178, 'z_res': 0.79905}\n",
      "{'x_size': 763, 'y_size': 957, 'z_size': 373, 'x_res': 0.757206, 'y_res': 0.757206, 'z_res': 0.79905}\n",
      "{'x_size': 893, 'y_size': 751, 'z_size': 394, 'x_res': 0.804255, 'y_res': 0.804255, 'z_res': 0.995673}\n",
      "{'x_size': 908, 'y_size': 775, 'z_size': 563, 'x_res': 0.813325, 'y_res': 0.813325, 'z_res': 0.79905}\n",
      "{'x_size': 722, 'y_size': 768, 'z_size': 434, 'x_res': 0.987231, 'y_res': 0.987231, 'z_res': 0.79905}\n",
      "{'x_size': 742, 'y_size': 871, 'z_size': 507, 'x_res': 0.999612, 'y_res': 0.999612, 'z_res': 0.996177}\n"
     ]
    }
   ],
   "source": [
    "files_final_xyz = [os.path.join(folder, i+\"_MASK_EQ_XYZ.nii.gz\") for i in especimens]\n",
    "#files_final_xyz = [os.path.join(folder, i+\"_mGFP_CardiacRegion_0.5_XYZ_predictions_GASP.nii.gz\") for i in especimens]\n",
    "\n",
    "for f in files_final_xyz:\n",
    "    print(c.load3D_metadata(f))\n",
    "    print(\"----------\")"
   ]
  },
  {
   "cell_type": "code",
   "execution_count": 22,
   "id": "6c43d9fa",
   "metadata": {},
   "outputs": [
    {
     "name": "stdout",
     "output_type": "stream",
     "text": [
      "{'x_size': 544, 'y_size': 845, 'z_size': 218, 'x_res': 0.757206, 'y_res': 0.757206, 'z_res': 0.995703}\n",
      "----------\n",
      "{'x_size': 1020, 'y_size': 764, 'z_size': 432, 'x_res': 0.757206, 'y_res': 0.757206, 'z_res': 0.99691}\n",
      "----------\n",
      "{'x_size': 812, 'y_size': 954, 'z_size': 218, 'x_res': 0.887178, 'y_res': 0.887178, 'z_res': 2.00143}\n",
      "----------\n",
      "{'x_size': 870, 'y_size': 651, 'z_size': 437, 'x_res': 0.813325, 'y_res': 0.813325, 'z_res': 0.79905}\n",
      "----------\n",
      "{'x_size': 861, 'y_size': 970, 'z_size': 477, 'x_res': 0.887178, 'y_res': 0.887178, 'z_res': 0.79905}\n",
      "----------\n",
      "{'x_size': 763, 'y_size': 957, 'z_size': 373, 'x_res': 0.757206, 'y_res': 0.757206, 'z_res': 0.79905}\n",
      "----------\n",
      "{'x_size': 893, 'y_size': 751, 'z_size': 394, 'x_res': 0.804255, 'y_res': 0.804255, 'z_res': 0.995673}\n",
      "----------\n",
      "{'x_size': 908, 'y_size': 775, 'z_size': 563, 'x_res': 0.813325, 'y_res': 0.813325, 'z_res': 0.79905}\n",
      "----------\n",
      "{'x_size': 722, 'y_size': 768, 'z_size': 434, 'x_res': 0.987231, 'y_res': 0.987231, 'z_res': 0.79905}\n",
      "----------\n",
      "{'x_size': 742, 'y_size': 871, 'z_size': 507, 'x_res': 0.999612, 'y_res': 0.999612, 'z_res': 0.996177}\n",
      "----------\n"
     ]
    }
   ],
   "source": [
    "files_final_xyz = [os.path.join(folder_n, i+\"_MASK_EQ_XYZ.nii.gz\") for i in especimens]\n",
    "#files_final_xyz = [os.path.join(folder, i+\"_mGFP_CardiacRegion_0.5_XYZ_predictions_GASP.nii.gz\") for i in especimens]\n",
    "\n",
    "for f in files_final_xyz:\n",
    "    print(c.load3D_metadata(f))\n",
    "    print(\"----------\")"
   ]
  },
  {
   "cell_type": "code",
   "execution_count": null,
   "id": "4dd585e9",
   "metadata": {},
   "outputs": [],
   "source": []
  },
  {
   "cell_type": "code",
   "execution_count": 99,
   "id": "50e47f12",
   "metadata": {},
   "outputs": [],
   "source": [
    "i = 2\n",
    "cc = nib.load(files_cardiac[i]).get_fdata()\n",
    "final = nib.load(files_final_xyz[i]).get_fdata()"
   ]
  },
  {
   "cell_type": "code",
   "execution_count": 100,
   "id": "4034c5a3",
   "metadata": {},
   "outputs": [
    {
     "ename": "IndexError",
     "evalue": "index 220 is out of bounds for axis 2 with size 218",
     "output_type": "error",
     "traceback": [
      "\u001b[0;31m---------------------------------------------------------------------------\u001b[0m",
      "\u001b[0;31mIndexError\u001b[0m                                Traceback (most recent call last)",
      "Input \u001b[0;32mIn [100]\u001b[0m, in \u001b[0;36m<module>\u001b[0;34m\u001b[0m\n\u001b[1;32m      2\u001b[0m plt\u001b[38;5;241m.\u001b[39mfigure(figsize\u001b[38;5;241m=\u001b[39m(\u001b[38;5;241m20\u001b[39m,\u001b[38;5;241m20\u001b[39m)) \n\u001b[1;32m      3\u001b[0m n \u001b[38;5;241m=\u001b[39m \u001b[38;5;241m20\u001b[39m\u001b[38;5;241m*\u001b[39mt\n\u001b[0;32m----> 4\u001b[0m plots \u001b[38;5;241m=\u001b[39m [\u001b[43mcc\u001b[49m\u001b[43m[\u001b[49m\u001b[43m:\u001b[49m\u001b[43m,\u001b[49m\u001b[43m \u001b[49m\u001b[43m:\u001b[49m\u001b[43m,\u001b[49m\u001b[43m \u001b[49m\u001b[43mn\u001b[49m\u001b[43m]\u001b[49m, final[:, :, n]]\n\u001b[1;32m      5\u001b[0m \u001b[38;5;28;01mfor\u001b[39;00m i \u001b[38;5;129;01min\u001b[39;00m \u001b[38;5;28mrange\u001b[39m(\u001b[38;5;28mlen\u001b[39m(plots)):\n\u001b[1;32m      6\u001b[0m     plt\u001b[38;5;241m.\u001b[39msubplot(\u001b[38;5;241m1\u001b[39m,\u001b[38;5;28mlen\u001b[39m(plots), i\u001b[38;5;241m+\u001b[39m\u001b[38;5;241m1\u001b[39m)\n",
      "\u001b[0;31mIndexError\u001b[0m: index 220 is out of bounds for axis 2 with size 218"
     ]
    },
    {
     "data": {
      "text/plain": [
       "<Figure size 1440x1440 with 0 Axes>"
      ]
     },
     "metadata": {},
     "output_type": "display_data"
    }
   ],
   "source": [
    "for t in range(24):\n",
    "    plt.figure(figsize=(20,20)) \n",
    "    n = 20*t\n",
    "    plots = [cc[:, :, n], final[:, :, n]]\n",
    "    for i in range(len(plots)):\n",
    "        plt.subplot(1,len(plots), i+1)\n",
    "        plt.imshow(plots[i])\n",
    "    plt.show()\n",
    "    clear_output(wait=True)"
   ]
  },
  {
   "cell_type": "markdown",
   "id": "e0fb6d9d",
   "metadata": {},
   "source": [
    "## FILTER ORIGINAL IMAGE"
   ]
  },
  {
   "cell_type": "code",
   "execution_count": 2,
   "id": "0ea9f6f0",
   "metadata": {},
   "outputs": [],
   "source": [
    "e = \"20190401_E1\"\n",
    "gasp_mem = f\"/Users/dvarelat/Documents/MASTER/TFM/DATA/RESULTS/membranes/GASP_PNAS/{e}_mGFP_CardiacRegion_0.5_XYZ_predictions_GASP.nii.gz\"\n"
   ]
  },
  {
   "cell_type": "code",
   "execution_count": 15,
   "id": "7c8e7998",
   "metadata": {},
   "outputs": [],
   "source": [
    "FILE_DF = f\"/Users/dvarelat/Documents/MASTER/TFM/DATA/EXTRACTION/{e}/cell_properties.csv\"\n",
    "df_clean = pd.read_csv(FILE_DF)"
   ]
  },
  {
   "cell_type": "code",
   "execution_count": 44,
   "id": "08791ca8",
   "metadata": {},
   "outputs": [
    {
     "data": {
      "text/plain": [
       "(4811, 12)"
      ]
     },
     "execution_count": 44,
     "metadata": {},
     "output_type": "execute_result"
    }
   ],
   "source": [
    "df_clean.shape"
   ]
  },
  {
   "cell_type": "code",
   "execution_count": 9,
   "id": "d35c8b89",
   "metadata": {},
   "outputs": [
    {
     "name": "stdout",
     "output_type": "stream",
     "text": [
      "(742, 871, 507)\n"
     ]
    }
   ],
   "source": [
    "pred_mem = nib.load(gasp_mem).get_fdata()\n",
    "print(pred_mem.shape)"
   ]
  },
  {
   "cell_type": "code",
   "execution_count": 3,
   "id": "2c667a97",
   "metadata": {},
   "outputs": [],
   "source": [
    "proxy = nib.load(gasp_mem)"
   ]
  },
  {
   "cell_type": "code",
   "execution_count": 14,
   "id": "98bb2dc6",
   "metadata": {},
   "outputs": [
    {
     "data": {
      "text/plain": [
       "0.996177"
      ]
     },
     "execution_count": 14,
     "metadata": {},
     "output_type": "execute_result"
    }
   ],
   "source": [
    "proxy.header[\"pixdim\"][3]"
   ]
  },
  {
   "cell_type": "code",
   "execution_count": 16,
   "id": "38597dca",
   "metadata": {},
   "outputs": [
    {
     "data": {
      "text/plain": [
       "6706"
      ]
     },
     "execution_count": 16,
     "metadata": {},
     "output_type": "execute_result"
    }
   ],
   "source": [
    "len(np.unique(pred_mem))"
   ]
  },
  {
   "cell_type": "code",
   "execution_count": 26,
   "id": "8052d5cc",
   "metadata": {},
   "outputs": [],
   "source": [
    "#np.where(pred_mem in list(df_clean.original_labels), pred_mem, 0)\n",
    "mask = np.isin(pred_mem, list(df_clean.original_labels))"
   ]
  },
  {
   "cell_type": "code",
   "execution_count": 31,
   "id": "d4d5f33c",
   "metadata": {},
   "outputs": [
    {
     "data": {
      "text/plain": [
       "array([False,  True])"
      ]
     },
     "execution_count": 31,
     "metadata": {},
     "output_type": "execute_result"
    }
   ],
   "source": [
    "np.unique(mask)"
   ]
  },
  {
   "cell_type": "code",
   "execution_count": 33,
   "id": "3a215e2a",
   "metadata": {},
   "outputs": [
    {
     "data": {
      "text/plain": [
       "4812"
      ]
     },
     "execution_count": 33,
     "metadata": {},
     "output_type": "execute_result"
    }
   ],
   "source": [
    "filt_pred_mem = mask * pred_mem\n",
    "len(np.unique(filt_pred_mem))"
   ]
  },
  {
   "cell_type": "code",
   "execution_count": 39,
   "id": "0da2eae4",
   "metadata": {},
   "outputs": [],
   "source": [
    "saveNifti(filt_pred_mem, c.load3D_metadata(gasp_mem), gasp_mem.replace(\"GASP.nii\", \"GASP_filtered.nii\"))"
   ]
  },
  {
   "cell_type": "code",
   "execution_count": 45,
   "id": "2db4539e",
   "metadata": {},
   "outputs": [
    {
     "data": {
      "text/plain": [
       "'/Users/dvarelat/Documents/MASTER/TFM/DATA/RESULTS/membranes/GASP_PNAS/20190401_E1_mGFP_CardiacRegion_0.5_XYZ_predictions_GASP_filtered.nii.gz'"
      ]
     },
     "execution_count": 45,
     "metadata": {},
     "output_type": "execute_result"
    }
   ],
   "source": [
    "gasp_mem.replace(\"GASP.nii\", \"GASP_filtered.nii\")"
   ]
  }
 ],
 "metadata": {
  "kernelspec": {
   "display_name": "images",
   "language": "python",
   "name": "images"
  },
  "language_info": {
   "codemirror_mode": {
    "name": "ipython",
    "version": 3
   },
   "file_extension": ".py",
   "mimetype": "text/x-python",
   "name": "python",
   "nbconvert_exporter": "python",
   "pygments_lexer": "ipython3",
   "version": "3.10.2"
  }
 },
 "nbformat": 4,
 "nbformat_minor": 5
}
