{
 "cells": [
  {
   "cell_type": "code",
   "execution_count": 1,
   "id": "441c4c26",
   "metadata": {},
   "outputs": [],
   "source": [
    "import numpy as np\n",
    "import sys\n",
    "import os\n",
    "import numpy as np\n",
    "import matplotlib.pyplot as plt\n",
    "from importlib import reload\n",
    "import nibabel as nib\n",
    "import pandas as pd\n",
    "from IPython.display import clear_output\n",
    "import importlib\n",
    "from skimage import morphology\n",
    "from skimage.segmentation import find_boundaries\n",
    "import porespy as ps\n",
    "from skimage.morphology import disk, binary_dilation"
   ]
  },
  {
   "cell_type": "code",
   "execution_count": 3,
   "id": "5c6d851a",
   "metadata": {},
   "outputs": [],
   "source": [
    "ESPECIMEN = \"20190404_E2\""
   ]
  },
  {
   "cell_type": "code",
   "execution_count": 4,
   "id": "2930bbd4",
   "metadata": {},
   "outputs": [],
   "source": [
    "cellpose_nu = f\"/Users/dvarelat/Documents/MASTER/TFM/DATA/RESULTS/nuclei/{ESPECIMEN}_MASK_EQ_XYZ.nii.gz\"\n",
    "gasp_mem = f\"/Users/dvarelat/Documents/MASTER/TFM/DATA/RESULTS/membranes/GASP_PNAS/{ESPECIMEN}_mGFP_CardiacRegion_0.5_XYZ_predictions_GASP.nii.gz\"\n",
    "nuclei = f\"/Users/dvarelat/Documents/MASTER/TFM/DATA/CardiacRegion/{ESPECIMEN}/{ESPECIMEN}_DAPI_CardiacRegion_0.5.nii.gz\"\n",
    "mem = f\"/Users/dvarelat/Documents/MASTER/TFM/DATA/CardiacRegion/{ESPECIMEN}/{ESPECIMEN}_mGFP_CardiacRegion_0.5.nii.gz\"\n"
   ]
  },
  {
   "cell_type": "code",
   "execution_count": 5,
   "id": "d4895ab0",
   "metadata": {},
   "outputs": [
    {
     "data": {
      "text/plain": [
       "(1020, 764, 432)"
      ]
     },
     "execution_count": 5,
     "metadata": {},
     "output_type": "execute_result"
    }
   ],
   "source": [
    "pred_nu = nib.load(cellpose_nu).get_fdata()\n",
    "pred_nu.shape"
   ]
  },
  {
   "cell_type": "code",
   "execution_count": 6,
   "id": "2c0c267c",
   "metadata": {},
   "outputs": [
    {
     "data": {
      "text/plain": [
       "(1020, 764, 432)"
      ]
     },
     "execution_count": 6,
     "metadata": {},
     "output_type": "execute_result"
    }
   ],
   "source": [
    "pred_mem = nib.load(gasp_mem).get_fdata()\n",
    "pred_mem.shape"
   ]
  },
  {
   "cell_type": "code",
   "execution_count": null,
   "id": "1ee91238",
   "metadata": {},
   "outputs": [],
   "source": [
    "DAPI = nib.load(nuclei).get_fdata()\n",
    "DAPI = DAPI[:,:,:,0]\n",
    "DAPI.shape"
   ]
  },
  {
   "cell_type": "code",
   "execution_count": null,
   "id": "1c13c5d8",
   "metadata": {},
   "outputs": [],
   "source": [
    "MEM = nib.load(mem).get_fdata()\n",
    "MEM = MEM[:,:,:,0]\n",
    "MEM.shape"
   ]
  },
  {
   "cell_type": "code",
   "execution_count": null,
   "id": "3926eb8e",
   "metadata": {},
   "outputs": [],
   "source": [
    "bound_mem = find_boundaries(pred_mem)"
   ]
  },
  {
   "cell_type": "markdown",
   "id": "1fbb175c",
   "metadata": {},
   "source": [
    "## Solo nuclei dentro del mesodermo"
   ]
  },
  {
   "cell_type": "code",
   "execution_count": 8,
   "id": "f6e0731f",
   "metadata": {},
   "outputs": [],
   "source": [
    "mask_mem = np.where(pred_mem != 0, True, False)"
   ]
  },
  {
   "cell_type": "code",
   "execution_count": 9,
   "id": "a4d96d7e",
   "metadata": {},
   "outputs": [
    {
     "data": {
      "text/plain": [
       "(1020, 764, 432)"
      ]
     },
     "execution_count": 9,
     "metadata": {},
     "output_type": "execute_result"
    }
   ],
   "source": [
    "mask_on_nuclei = mask_mem * pred_nu\n",
    "mask_on_nuclei.shape"
   ]
  },
  {
   "cell_type": "code",
   "execution_count": null,
   "id": "e67cd193",
   "metadata": {},
   "outputs": [],
   "source": [
    "n = 200\n",
    "plt.figure(figsize=(10,10))\n",
    "plots = [pred_mem[:, :, n], pred_nu[:, :, n],mask_mem[:,:,n],mask_on_nuclei[:,:,n]]\n",
    "for i in range(len(plots)):\n",
    "    plt.subplot(1,len(plots), i+1)\n",
    "    plt.imshow(plots[i])"
   ]
  },
  {
   "cell_type": "markdown",
   "id": "ba5da2cd",
   "metadata": {},
   "source": [
    "### Props membranes"
   ]
  },
  {
   "cell_type": "code",
   "execution_count": 7,
   "id": "b1606d6d",
   "metadata": {},
   "outputs": [],
   "source": [
    "img_mem = morphology.label(pred_mem)\n",
    "props_mem = ps.metrics.regionprops_3D(img_mem)"
   ]
  },
  {
   "cell_type": "markdown",
   "id": "51f29595",
   "metadata": {},
   "source": [
    "### Oiginal labels from centroid"
   ]
  },
  {
   "cell_type": "code",
   "execution_count": null,
   "id": "41a6a254",
   "metadata": {},
   "outputs": [],
   "source": [
    "print(len(props_mem))\n",
    "centroids_mem = [[round(i) for i in p[\"centroid\"]] for p in props_mem]"
   ]
  },
  {
   "cell_type": "code",
   "execution_count": null,
   "id": "22a877db",
   "metadata": {},
   "outputs": [],
   "source": [
    "original_labels_centroids = [img_mem[c[0],c[1],c[2]] for c in centroids_mem]"
   ]
  },
  {
   "cell_type": "markdown",
   "id": "40f6e6c8",
   "metadata": {},
   "source": [
    "### DF and Filtrar por tamaño"
   ]
  },
  {
   "cell_type": "code",
   "execution_count": null,
   "id": "5875cce8",
   "metadata": {},
   "outputs": [],
   "source": [
    "df = pd.DataFrame({\"cell_in_props\":range(len(props_mem)),\n",
    "                  \"volumes\": [p.volume for p in props_mem], \n",
    "                  \"original_labels\":original_labels_centroids, \n",
    "                  \"centroids\":centroids_mem})"
   ]
  },
  {
   "cell_type": "code",
   "execution_count": null,
   "id": "cf5577a5",
   "metadata": {},
   "outputs": [],
   "source": [
    "df_clean = df[df.original_labels != 0]\n",
    "df_clean = df_clean[df_clean.volumes < 1.5*np.median(df_clean.volumes)]\n",
    "df_clean = df_clean[df_clean.volumes > 0.2*np.median(df_clean.volumes)]\n",
    "df_clean.describe() "
   ]
  },
  {
   "cell_type": "code",
   "execution_count": null,
   "id": "e3a64771",
   "metadata": {},
   "outputs": [],
   "source": []
  },
  {
   "cell_type": "markdown",
   "id": "4767c4ce",
   "metadata": {},
   "source": [
    "### Centroid nuclei + original label"
   ]
  },
  {
   "cell_type": "code",
   "execution_count": 10,
   "id": "8e66b8d1",
   "metadata": {},
   "outputs": [],
   "source": [
    "img_nu = morphology.label(mask_on_nuclei)\n",
    "props_nu = ps.metrics.regionprops_3D(img_nu)\n",
    "centroids_nu = [[round(i) for i in p[\"centroid\"]] for p in props_nu]"
   ]
  },
  {
   "cell_type": "code",
   "execution_count": null,
   "id": "77a97603",
   "metadata": {},
   "outputs": [],
   "source": [
    "NU_original_labels_centroids = [img_nu[c[0],c[1],c[2]] for c in centroids_nu]"
   ]
  },
  {
   "cell_type": "code",
   "execution_count": null,
   "id": "813f551d",
   "metadata": {},
   "outputs": [],
   "source": [
    "labels_centroid_nu_in_mem = [img_mem[c[0],c[1],c[2]] for c in centroids_nu]"
   ]
  },
  {
   "cell_type": "code",
   "execution_count": null,
   "id": "2dbdcf02",
   "metadata": {},
   "outputs": [],
   "source": [
    "dict_nuclei_membrane_centroids = dict(zip(labels_centroid_nu_in_mem, NU_original_labels_centroids))\n",
    "dict_memlabel_cellnumber_props_nuclei = dict(zip(labels_centroid_nu_in_mem, range(len(centroids_nu))))"
   ]
  },
  {
   "cell_type": "code",
   "execution_count": null,
   "id": "db389dd5",
   "metadata": {},
   "outputs": [],
   "source": []
  },
  {
   "cell_type": "code",
   "execution_count": null,
   "id": "1b490a3b",
   "metadata": {},
   "outputs": [],
   "source": [
    "df_clean[\"nuclei_label_cent\"] = [dict_nuclei_membrane_centroids[label] if label in labels_centroid_nu_in_mem else -1 for label in df_clean.original_labels]"
   ]
  },
  {
   "cell_type": "code",
   "execution_count": null,
   "id": "ab0ca41c",
   "metadata": {},
   "outputs": [],
   "source": [
    "df_clean[\"nuclei_cell_in_props\"] = [dict_memlabel_cellnumber_props_nuclei[label] if label in labels_centroid_nu_in_mem else -1 for label in df_clean.original_labels]"
   ]
  },
  {
   "cell_type": "code",
   "execution_count": null,
   "id": "ccdd5445",
   "metadata": {},
   "outputs": [],
   "source": [
    "df_clean[df_clean.nuclei_label_cent == -1]"
   ]
  },
  {
   "cell_type": "code",
   "execution_count": null,
   "id": "8f134618",
   "metadata": {},
   "outputs": [],
   "source": [
    "for t in range(13):\n",
    "    plt.figure(figsize=(5,5)) \n",
    "    n = 1*t\n",
    "    plots = [img_mem[props_mem[20].slices][:,:, n], \n",
    "             find_boundaries(img_mem[props_mem[20].slices][:,:, n]), \n",
    "             centros[props_mem[20].slices][:,:, n]]\n",
    "    for i in range(len(plots)):\n",
    "        plt.subplot(1,len(plots), i+1)\n",
    "        plt.imshow(plots[i])\n",
    "    plt.show()\n",
    "    clear_output(wait=True)"
   ]
  },
  {
   "cell_type": "code",
   "execution_count": null,
   "id": "5e767287",
   "metadata": {},
   "outputs": [],
   "source": []
  },
  {
   "cell_type": "markdown",
   "id": "482300df",
   "metadata": {},
   "source": [
    "### CHECK PAIR"
   ]
  },
  {
   "cell_type": "code",
   "execution_count": 2,
   "id": "327bf33f",
   "metadata": {},
   "outputs": [],
   "source": [
    "FILE = \"/Users/dvarelat/Documents/MASTER/TFM/DATA/EXTRACTION/20190404_E2/cell_properties.csv\"\n",
    "df = pd.read_csv(FILE)"
   ]
  },
  {
   "cell_type": "code",
   "execution_count": 13,
   "id": "3d5a224b",
   "metadata": {},
   "outputs": [
    {
     "data": {
      "text/html": [
       "<div>\n",
       "<style scoped>\n",
       "    .dataframe tbody tr th:only-of-type {\n",
       "        vertical-align: middle;\n",
       "    }\n",
       "\n",
       "    .dataframe tbody tr th {\n",
       "        vertical-align: top;\n",
       "    }\n",
       "\n",
       "    .dataframe thead th {\n",
       "        text-align: right;\n",
       "    }\n",
       "</style>\n",
       "<table border=\"1\" class=\"dataframe\">\n",
       "  <thead>\n",
       "    <tr style=\"text-align: right;\">\n",
       "      <th></th>\n",
       "      <th>cell_in_props</th>\n",
       "      <th>volumes</th>\n",
       "      <th>sphericities</th>\n",
       "      <th>original_labels</th>\n",
       "      <th>centroids</th>\n",
       "      <th>lines</th>\n",
       "      <th>axis_major_length</th>\n",
       "      <th>axis_minor_length</th>\n",
       "      <th>volumeRGB</th>\n",
       "      <th>sphericityRGB</th>\n",
       "      <th>nuclei_label_cent</th>\n",
       "      <th>nuclei_cell_in_props</th>\n",
       "    </tr>\n",
       "  </thead>\n",
       "  <tbody>\n",
       "    <tr>\n",
       "      <th>0</th>\n",
       "      <td>0</td>\n",
       "      <td>5453</td>\n",
       "      <td>1.140771</td>\n",
       "      <td>1261.0</td>\n",
       "      <td>[7, 8, 51]</td>\n",
       "      <td>0.0</td>\n",
       "      <td>28.644782</td>\n",
       "      <td>17.930625</td>\n",
       "      <td>[0, 26, 229, 255]</td>\n",
       "      <td>[0, 239, 16, 255]</td>\n",
       "      <td>2131.0</td>\n",
       "      <td>0</td>\n",
       "    </tr>\n",
       "    <tr>\n",
       "      <th>1</th>\n",
       "      <td>2</td>\n",
       "      <td>2999</td>\n",
       "      <td>0.820548</td>\n",
       "      <td>2312.0</td>\n",
       "      <td>[11, 4, 73]</td>\n",
       "      <td>0.0</td>\n",
       "      <td>29.557108</td>\n",
       "      <td>12.503101</td>\n",
       "      <td>[0, 14, 241, 255]</td>\n",
       "      <td>[0, 142, 113, 255]</td>\n",
       "      <td>3228.0</td>\n",
       "      <td>1</td>\n",
       "    </tr>\n",
       "    <tr>\n",
       "      <th>2</th>\n",
       "      <td>6</td>\n",
       "      <td>913</td>\n",
       "      <td>1.139358</td>\n",
       "      <td>5276.0</td>\n",
       "      <td>[4, 2, 114]</td>\n",
       "      <td>0.0</td>\n",
       "      <td>19.986726</td>\n",
       "      <td>8.286374</td>\n",
       "      <td>[0, 5, 250, 255]</td>\n",
       "      <td>[0, 238, 17, 255]</td>\n",
       "      <td>6235.0</td>\n",
       "      <td>3</td>\n",
       "    </tr>\n",
       "    <tr>\n",
       "      <th>3</th>\n",
       "      <td>8</td>\n",
       "      <td>867</td>\n",
       "      <td>0.821385</td>\n",
       "      <td>8820.0</td>\n",
       "      <td>[2, 12, 202]</td>\n",
       "      <td>0.0</td>\n",
       "      <td>22.803485</td>\n",
       "      <td>6.240074</td>\n",
       "      <td>[0, 4, 251, 255]</td>\n",
       "      <td>[0, 142, 113, 255]</td>\n",
       "      <td>11377.0</td>\n",
       "      <td>4</td>\n",
       "    </tr>\n",
       "    <tr>\n",
       "      <th>4</th>\n",
       "      <td>10</td>\n",
       "      <td>4527</td>\n",
       "      <td>0.882314</td>\n",
       "      <td>5761.0</td>\n",
       "      <td>[10, 8, 126]</td>\n",
       "      <td>0.0</td>\n",
       "      <td>31.159790</td>\n",
       "      <td>15.027543</td>\n",
       "      <td>[0, 22, 233, 255]</td>\n",
       "      <td>[0, 161, 94, 255]</td>\n",
       "      <td>7085.0</td>\n",
       "      <td>5</td>\n",
       "    </tr>\n",
       "  </tbody>\n",
       "</table>\n",
       "</div>"
      ],
      "text/plain": [
       "   cell_in_props  volumes  sphericities  original_labels     centroids  lines  \\\n",
       "0              0     5453      1.140771           1261.0    [7, 8, 51]    0.0   \n",
       "1              2     2999      0.820548           2312.0   [11, 4, 73]    0.0   \n",
       "2              6      913      1.139358           5276.0   [4, 2, 114]    0.0   \n",
       "3              8      867      0.821385           8820.0  [2, 12, 202]    0.0   \n",
       "4             10     4527      0.882314           5761.0  [10, 8, 126]    0.0   \n",
       "\n",
       "   axis_major_length  axis_minor_length          volumeRGB  \\\n",
       "0          28.644782          17.930625  [0, 26, 229, 255]   \n",
       "1          29.557108          12.503101  [0, 14, 241, 255]   \n",
       "2          19.986726           8.286374   [0, 5, 250, 255]   \n",
       "3          22.803485           6.240074   [0, 4, 251, 255]   \n",
       "4          31.159790          15.027543  [0, 22, 233, 255]   \n",
       "\n",
       "        sphericityRGB  nuclei_label_cent  nuclei_cell_in_props  \n",
       "0   [0, 239, 16, 255]             2131.0                     0  \n",
       "1  [0, 142, 113, 255]             3228.0                     1  \n",
       "2   [0, 238, 17, 255]             6235.0                     3  \n",
       "3  [0, 142, 113, 255]            11377.0                     4  \n",
       "4   [0, 161, 94, 255]             7085.0                     5  "
      ]
     },
     "execution_count": 13,
     "metadata": {},
     "output_type": "execute_result"
    }
   ],
   "source": [
    "df.head()"
   ]
  },
  {
   "cell_type": "code",
   "execution_count": 11,
   "id": "8a401203",
   "metadata": {},
   "outputs": [
    {
     "data": {
      "text/plain": [
       "(5.463039621525724, 6.887049083382614, 53.27439384979302)"
      ]
     },
     "execution_count": 11,
     "metadata": {},
     "output_type": "execute_result"
    }
   ],
   "source": [
    "props_nu[0].centroid"
   ]
  },
  {
   "cell_type": "code",
   "execution_count": 22,
   "id": "9ed8ef24",
   "metadata": {},
   "outputs": [
    {
     "name": "stdout",
     "output_type": "stream",
     "text": [
      "(slice(0, 16, None), slice(0, 19, None), slice(38, 65, None))\n"
     ]
    },
    {
     "data": {
      "text/plain": [
       "(slice(0, 13, None), slice(0, 17, None), slice(48, 60, None))"
      ]
     },
     "execution_count": 22,
     "metadata": {},
     "output_type": "execute_result"
    }
   ],
   "source": [
    "print(props_mem[0].slices)\n",
    "props_nu[0].slices"
   ]
  },
  {
   "cell_type": "code",
   "execution_count": 14,
   "id": "974122e0",
   "metadata": {},
   "outputs": [
    {
     "data": {
      "text/html": [
       "<div>\n",
       "<style scoped>\n",
       "    .dataframe tbody tr th:only-of-type {\n",
       "        vertical-align: middle;\n",
       "    }\n",
       "\n",
       "    .dataframe tbody tr th {\n",
       "        vertical-align: top;\n",
       "    }\n",
       "\n",
       "    .dataframe thead th {\n",
       "        text-align: right;\n",
       "    }\n",
       "</style>\n",
       "<table border=\"1\" class=\"dataframe\">\n",
       "  <thead>\n",
       "    <tr style=\"text-align: right;\">\n",
       "      <th></th>\n",
       "      <th>cell_in_props</th>\n",
       "      <th>volumes</th>\n",
       "      <th>sphericities</th>\n",
       "      <th>original_labels</th>\n",
       "      <th>centroids</th>\n",
       "      <th>lines</th>\n",
       "      <th>axis_major_length</th>\n",
       "      <th>axis_minor_length</th>\n",
       "      <th>volumeRGB</th>\n",
       "      <th>sphericityRGB</th>\n",
       "      <th>nuclei_label_cent</th>\n",
       "      <th>nuclei_cell_in_props</th>\n",
       "    </tr>\n",
       "  </thead>\n",
       "  <tbody>\n",
       "    <tr>\n",
       "      <th>0</th>\n",
       "      <td>0</td>\n",
       "      <td>5453</td>\n",
       "      <td>1.140771</td>\n",
       "      <td>1261.0</td>\n",
       "      <td>[7, 8, 51]</td>\n",
       "      <td>0.0</td>\n",
       "      <td>28.644782</td>\n",
       "      <td>17.930625</td>\n",
       "      <td>[0, 26, 229, 255]</td>\n",
       "      <td>[0, 239, 16, 255]</td>\n",
       "      <td>2131.0</td>\n",
       "      <td>0</td>\n",
       "    </tr>\n",
       "  </tbody>\n",
       "</table>\n",
       "</div>"
      ],
      "text/plain": [
       "   cell_in_props  volumes  sphericities  original_labels   centroids  lines  \\\n",
       "0              0     5453      1.140771           1261.0  [7, 8, 51]    0.0   \n",
       "\n",
       "   axis_major_length  axis_minor_length          volumeRGB      sphericityRGB  \\\n",
       "0          28.644782          17.930625  [0, 26, 229, 255]  [0, 239, 16, 255]   \n",
       "\n",
       "   nuclei_label_cent  nuclei_cell_in_props  \n",
       "0             2131.0                     0  "
      ]
     },
     "execution_count": 14,
     "metadata": {},
     "output_type": "execute_result"
    }
   ],
   "source": [
    "df[df.cell_in_props == 0]"
   ]
  },
  {
   "cell_type": "code",
   "execution_count": 15,
   "id": "7ab60af9",
   "metadata": {},
   "outputs": [],
   "source": [
    "test = np.zeros(img_mem.shape)\n",
    "test[6, 7, 53] = 1"
   ]
  },
  {
   "cell_type": "code",
   "execution_count": 16,
   "id": "08966210",
   "metadata": {},
   "outputs": [],
   "source": [
    "test = binary_dilation(test, morphology.ball(radius=4)) "
   ]
  },
  {
   "cell_type": "code",
   "execution_count": null,
   "id": "c9bd9d4f",
   "metadata": {},
   "outputs": [],
   "source": [
    "x = np.where(pred_mem == 1, 0, 1)"
   ]
  },
  {
   "cell_type": "code",
   "execution_count": 29,
   "id": "305e3d24",
   "metadata": {},
   "outputs": [
    {
     "data": {
      "text/plain": [
       "(13, 17, 12)"
      ]
     },
     "execution_count": 29,
     "metadata": {},
     "output_type": "execute_result"
    }
   ],
   "source": [
    "test[props_nu[0].slices].shape"
   ]
  },
  {
   "cell_type": "code",
   "execution_count": 23,
   "id": "51c4d725",
   "metadata": {},
   "outputs": [
    {
     "data": {
      "text/plain": [
       "array([False,  True])"
      ]
     },
     "execution_count": 23,
     "metadata": {},
     "output_type": "execute_result"
    }
   ],
   "source": [
    "np.unique(test[props_mem[0].slices])"
   ]
  },
  {
   "cell_type": "code",
   "execution_count": null,
   "id": "7f442e82",
   "metadata": {},
   "outputs": [],
   "source": []
  },
  {
   "cell_type": "code",
   "execution_count": 36,
   "id": "1cd4aafe",
   "metadata": {},
   "outputs": [
    {
     "data": {
      "image/png": "[encoded data removed]",
      "text/plain": [
       "<Figure size 360x360 with 5 Axes>"
      ]
     },
     "metadata": {
      "needs_background": "light"
     },
     "output_type": "display_data"
    }
   ],
   "source": [
    "for t in range(27):\n",
    "    plt.figure(figsize=(5,5)) \n",
    "    n = 1*t\n",
    "    plots = [test[props_mem[0].slices][:,:, n], \n",
    "             props_mem[0].border[:,:, n],\n",
    "             props_mem[0].image[:,:, n],\n",
    "            pred_nu[props_mem[0].slices][:,:, n],\n",
    "             props_mem[0].image_convex[:,:, n]\n",
    "            ]\n",
    "    for i in range(len(plots)):\n",
    "        plt.subplot(1,len(plots), i+1)\n",
    "        plt.imshow(plots[i])\n",
    "    plt.show()\n",
    "    clear_output(wait=True)"
   ]
  },
  {
   "cell_type": "code",
   "execution_count": 47,
   "id": "bc1e681e",
   "metadata": {},
   "outputs": [
    {
     "data": {
      "text/plain": [
       "(13, 17, 12)"
      ]
     },
     "execution_count": 47,
     "metadata": {},
     "output_type": "execute_result"
    }
   ],
   "source": [
    "props_nu[0].image.shape"
   ]
  },
  {
   "cell_type": "code",
   "execution_count": 58,
   "id": "41be6e0f",
   "metadata": {},
   "outputs": [
    {
     "data": {
      "text/plain": [
       "[64.82689141304941, 57.10154244909198, 39.87607983742602]"
      ]
     },
     "execution_count": 58,
     "metadata": {},
     "output_type": "execute_result"
    }
   ],
   "source": [
    "from numpy import linalg as LA\n",
    "props_mem[0].inertia_tensor_eigvals"
   ]
  },
  {
   "cell_type": "markdown",
   "id": "549aee4a",
   "metadata": {},
   "source": [
    "## VER: binary - nuclei centroid + border"
   ]
  },
  {
   "cell_type": "code",
   "execution_count": null,
   "id": "28d7c29a",
   "metadata": {},
   "outputs": [],
   "source": [
    "centros = np.zeros(img_nu.shape)\n",
    "for i,c in enumerate(centroids_nu):\n",
    "    centros[c[0],c[1], c[2]] = 1\n",
    "centros = binary_dilation(centros, morphology.ball(radius=4)) "
   ]
  },
  {
   "cell_type": "code",
   "execution_count": null,
   "id": "77532be1",
   "metadata": {},
   "outputs": [],
   "source": [
    "for t in range(24):\n",
    "    plt.figure(figsize=(10,10)) \n",
    "    n = 100 #20*t\n",
    "    plots = [centros[:, :, n] + bound_mem[:, :, n] ]\n",
    "    for i in range(len(plots)):\n",
    "        plt.subplot(1,len(plots), i+1)\n",
    "        plt.imshow(plots[i])\n",
    "    plt.show()\n",
    "    clear_output(wait=True)\n",
    "    break"
   ]
  }
 ],
 "metadata": {
  "kernelspec": {
   "display_name": "PORESPY",
   "language": "python",
   "name": "porespy"
  },
  "language_info": {
   "codemirror_mode": {
    "name": "ipython",
    "version": 3
   },
   "file_extension": ".py",
   "mimetype": "text/x-python",
   "name": "python",
   "nbconvert_exporter": "python",
   "pygments_lexer": "ipython3",
   "version": "3.8.13"
  }
 },
 "nbformat": 4,
 "nbformat_minor": 5
}
