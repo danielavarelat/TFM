{
 "cells": [
  {
   "cell_type": "code",
   "execution_count": 1,
   "id": "da34cd08",
   "metadata": {},
   "outputs": [],
   "source": [
    "import os\n",
    "import numpy as np\n",
    "import h5py\n",
    "import matplotlib.pyplot as plt\n",
    "import nibabel as nib\n",
    "from PIL import Image"
   ]
  },
  {
   "cell_type": "code",
   "execution_count": 73,
   "id": "0d804c8d",
   "metadata": {},
   "outputs": [
    {
     "name": "stdout",
     "output_type": "stream",
     "text": [
      "['20190401_E2_DAPI_x84to320_y315to551_z72to274_orig.nii.gz', '20190401_E2_mGFP_x84to320_y315to551_z72to274_orig.nii.gz', '20190401_E2_T_x84to320_y315to551_z72to274_decon.nii.gz', '20190401_E2_T_x84to320_y315to551_z72to274_orig.nii.gz']\n"
     ]
    }
   ],
   "source": [
    "crops_folders = [f for f in os.listdir(folder_spec) if \"crop\" in f]\n",
    "for c in crops_folders:\n",
    "    files_crop = os.listdir(os.path.join(folder_spec,c))\n",
    "    files_crop = [i for i in files_crop if \"target\" not in i]\n",
    "    print(files_crop)\n",
    "    break"
   ]
  },
  {
   "cell_type": "code",
   "execution_count": 63,
   "id": "ddea51c3",
   "metadata": {},
   "outputs": [],
   "source": [
    "def get_list_files_crops(folder_specimen, decon=True, mem=True, nu=True):\n",
    "    if decon:\n",
    "        print(\"Getting deconv files.\")\n",
    "        type_img = \"decon\"\n",
    "    else:\n",
    "        print(\"Getting original files.\")\n",
    "        type_img = \"orig\"\n",
    "    crops_folders = [f for f in os.listdir(folder_spec) if \"crop\" in f]\n",
    "    files_nuclei = []\n",
    "    files_mem = []\n",
    "    for c in crops_folders:\n",
    "        files_crop = os.listdir(os.path.join(folder_spec,c))\n",
    "        files_crop = [i for i in files_crop if \"target\" not in i]\n",
    "        if mem:\n",
    "            membranes = [i for i in files_crop if \"mGFP\" in i ]\n",
    "            filename_m = [i for i in membranes if type_img in i][0]\n",
    "            files_mem.append(os.path.join(os.path.join(folder_spec,c), filename_m))\n",
    "        if nu: \n",
    "            nuclei = [i for i in files_crop if \"DAPI\" in i ]\n",
    "            filename_n = [i for i in nuclei if type_img in i][0]\n",
    "            files_nuclei.append(os.path.join(os.path.join(folder_spec,c), filename_n))\n",
    "        \n",
    "    if mem and nu:\n",
    "        return [files_nuclei, files_mem]\n",
    "    elif mem and not nu:\n",
    "        print(\"Just MEMBRANE FILES\")\n",
    "        return files_mem\n",
    "    elif nu and not mem:\n",
    "        print(\"Just NUCLEI FILES\")\n",
    "        return files_nuclei\n",
    "    else:\n",
    "        print(\"NONE\")"
   ]
  },
  {
   "cell_type": "raw",
   "id": "4666ceff",
   "metadata": {},
   "source": [
    "Folder_specimen => dentro debe tener carpetas: crop0, crop1, ..., cropn"
   ]
  },
  {
   "cell_type": "code",
   "execution_count": 27,
   "id": "9ba39d73",
   "metadata": {},
   "outputs": [],
   "source": [
    "folder_spec = \"/Users/dvarelat/Documents/MASTER/TFM/DATA/allCells_crops/20190401_E2\"\n",
    "REMOTE_FOLDER=\"/homedtic/dvarela/specimens/20190401_E2/nuclei_decon_crops\""
   ]
  },
  {
   "cell_type": "code",
   "execution_count": 69,
   "id": "df1ab08a",
   "metadata": {},
   "outputs": [
    {
     "name": "stdout",
     "output_type": "stream",
     "text": [
      "Getting deconv files.\n"
     ]
    },
    {
     "ename": "IndexError",
     "evalue": "list index out of range",
     "output_type": "error",
     "traceback": [
      "\u001b[0;31m---------------------------------------------------------------------------\u001b[0m",
      "\u001b[0;31mIndexError\u001b[0m                                Traceback (most recent call last)",
      "Input \u001b[0;32mIn [69]\u001b[0m, in \u001b[0;36m<module>\u001b[0;34m\u001b[0m\n\u001b[0;32m----> 1\u001b[0m list_decon_mem \u001b[38;5;241m=\u001b[39m \u001b[43mget_list_files_crops\u001b[49m\u001b[43m(\u001b[49m\u001b[43mfolder_spec\u001b[49m\u001b[43m,\u001b[49m\u001b[43m \u001b[49m\u001b[43mmem\u001b[49m\u001b[38;5;241;43m=\u001b[39;49m\u001b[38;5;28;43;01mTrue\u001b[39;49;00m\u001b[43m,\u001b[49m\u001b[43m \u001b[49m\u001b[43mnu\u001b[49m\u001b[38;5;241;43m=\u001b[39;49m\u001b[38;5;28;43;01mFalse\u001b[39;49;00m\u001b[43m)\u001b[49m\n",
      "Input \u001b[0;32mIn [63]\u001b[0m, in \u001b[0;36mget_list_files_crops\u001b[0;34m(folder_specimen, decon, mem, nu)\u001b[0m\n\u001b[1;32m     14\u001b[0m \u001b[38;5;28;01mif\u001b[39;00m mem:\n\u001b[1;32m     15\u001b[0m     membranes \u001b[38;5;241m=\u001b[39m [i \u001b[38;5;28;01mfor\u001b[39;00m i \u001b[38;5;129;01min\u001b[39;00m files_crop \u001b[38;5;28;01mif\u001b[39;00m \u001b[38;5;124m\"\u001b[39m\u001b[38;5;124mmGFP\u001b[39m\u001b[38;5;124m\"\u001b[39m \u001b[38;5;129;01min\u001b[39;00m i ]\n\u001b[0;32m---> 16\u001b[0m     filename_m \u001b[38;5;241m=\u001b[39m \u001b[43m[\u001b[49m\u001b[43mi\u001b[49m\u001b[43m \u001b[49m\u001b[38;5;28;43;01mfor\u001b[39;49;00m\u001b[43m \u001b[49m\u001b[43mi\u001b[49m\u001b[43m \u001b[49m\u001b[38;5;129;43;01min\u001b[39;49;00m\u001b[43m \u001b[49m\u001b[43mmembranes\u001b[49m\u001b[43m \u001b[49m\u001b[38;5;28;43;01mif\u001b[39;49;00m\u001b[43m \u001b[49m\u001b[43mtype_img\u001b[49m\u001b[43m \u001b[49m\u001b[38;5;129;43;01min\u001b[39;49;00m\u001b[43m \u001b[49m\u001b[43mi\u001b[49m\u001b[43m]\u001b[49m\u001b[43m[\u001b[49m\u001b[38;5;241;43m0\u001b[39;49m\u001b[43m]\u001b[49m\n\u001b[1;32m     17\u001b[0m     files_mem\u001b[38;5;241m.\u001b[39mappend(os\u001b[38;5;241m.\u001b[39mpath\u001b[38;5;241m.\u001b[39mjoin(os\u001b[38;5;241m.\u001b[39mpath\u001b[38;5;241m.\u001b[39mjoin(folder_spec,c), filename_m))\n\u001b[1;32m     18\u001b[0m \u001b[38;5;28;01mif\u001b[39;00m nu: \n",
      "\u001b[0;31mIndexError\u001b[0m: list index out of range"
     ]
    }
   ],
   "source": [
    "list_decon_mem = get_list_files_crops(folder_spec, mem=True, nu=False)"
   ]
  },
  {
   "cell_type": "code",
   "execution_count": 66,
   "id": "65a3e82d",
   "metadata": {},
   "outputs": [
    {
     "data": {
      "text/plain": [
       "90"
      ]
     },
     "execution_count": 66,
     "metadata": {},
     "output_type": "execute_result"
    }
   ],
   "source": [
    "len(list_decon_mem)"
   ]
  },
  {
   "cell_type": "code",
   "execution_count": 67,
   "id": "9a4d4244",
   "metadata": {},
   "outputs": [
    {
     "data": {
      "text/plain": [
       "90"
      ]
     },
     "execution_count": 67,
     "metadata": {},
     "output_type": "execute_result"
    }
   ],
   "source": [
    "basenames = [os.path.basename(i) for i in list_decon_nuclei]\n",
    "len(basenames)"
   ]
  },
  {
   "cell_type": "code",
   "execution_count": 68,
   "id": "69ef2401",
   "metadata": {},
   "outputs": [],
   "source": [
    "f = open('membranes.txt', 'w')\n",
    "f.writelines( list( \"%s\\n\" % item for item in list_decon_mem ) )"
   ]
  },
  {
   "cell_type": "code",
   "execution_count": null,
   "id": "8df15995",
   "metadata": {},
   "outputs": [],
   "source": [
    "for file in $(cat membranes.txt); do mv \"$file\" ~/Documents/MASTER/TFM/DATA/20190401_E2/membranes; done\n"
   ]
  },
  {
   "cell_type": "code",
   "execution_count": 21,
   "id": "e4b2a41e",
   "metadata": {
    "scrolled": true
   },
   "outputs": [],
   "source": [
    "rsync -av --progress -a --files-from=files.txt /Users/dvarelat/Documents/MASTER/TFM/DATA/20190401_E2/nuclei dvarela@hpc.s.upf.edu:/homedtic/dvarela/specimens/20190401_E2/nuclei_decon_crops\n"
   ]
  },
  {
   "cell_type": "code",
   "execution_count": null,
   "id": "59498011",
   "metadata": {},
   "outputs": [],
   "source": [
    "rsync -a --files-from=/tmp/foo /usr remote:/backup\n"
   ]
  },
  {
   "cell_type": "code",
   "execution_count": null,
   "id": "a272b9c8",
   "metadata": {},
   "outputs": [],
   "source": [
    "scp -r /Users/dvarelat/Documents/MASTER/TFM/DATA/20190401_E2/nuclei/* dvarela@hpc.s.upf.edu:/homedtic/dvarela/specimens/20190401_E2/nuclei_decon_crops"
   ]
  },
  {
   "cell_type": "code",
   "execution_count": null,
   "id": "42bafa85",
   "metadata": {},
   "outputs": [],
   "source": [
    "scp -r /Users/dvarelat/Documents/MASTER/TFM/DATA/20190401_E2/membranes/* dvarela@hpc.s.upf.edu:/homedtic/dvarela/specimens/20190401_E2/membranes_decon_crops"
   ]
  },
  {
   "cell_type": "code",
   "execution_count": null,
   "id": "1749d917",
   "metadata": {},
   "outputs": [],
   "source": [
    "rsync -av --progress --partial-dir=/tmp --no-R --files-from=/Users/dvarelat/Documents/MASTER/TFM/notebooks/output.txt dvarela@hpc.s.upf.edu:/homedtic/dvarela/specimens/20190401_E2/nuclei_decon_crops\n"
   ]
  },
  {
   "cell_type": "code",
   "execution_count": 82,
   "id": "f0c325a8",
   "metadata": {},
   "outputs": [],
   "source": [
    "with open('membranes.txt') as f:\n",
    "    lines = f.readlines()"
   ]
  },
  {
   "cell_type": "code",
   "execution_count": 83,
   "id": "b2149add",
   "metadata": {},
   "outputs": [
    {
     "data": {
      "text/plain": [
       "90"
      ]
     },
     "execution_count": 83,
     "metadata": {},
     "output_type": "execute_result"
    }
   ],
   "source": [
    "len(lines)"
   ]
  },
  {
   "cell_type": "code",
   "execution_count": 85,
   "id": "9dfdda15",
   "metadata": {},
   "outputs": [
    {
     "data": {
      "text/plain": [
       "59"
      ]
     },
     "execution_count": 85,
     "metadata": {},
     "output_type": "execute_result"
    }
   ],
   "source": [
    "len(os.listdir(\"/Users/dvarelat/Documents/MASTER/TFM/DATA/20190401_E2/nuclei/\"))"
   ]
  }
 ],
 "metadata": {
  "kernelspec": {
   "display_name": "images",
   "language": "python",
   "name": "images"
  },
  "language_info": {
   "codemirror_mode": {
    "name": "ipython",
    "version": 3
   },
   "file_extension": ".py",
   "mimetype": "text/x-python",
   "name": "python",
   "nbconvert_exporter": "python",
   "pygments_lexer": "ipython3",
   "version": "3.10.2"
  }
 },
 "nbformat": 4,
 "nbformat_minor": 5
}
